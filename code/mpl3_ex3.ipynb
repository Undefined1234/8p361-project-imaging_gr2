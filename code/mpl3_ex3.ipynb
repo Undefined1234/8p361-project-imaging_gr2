{
 "cells": [
  {
   "cell_type": "code",
   "execution_count": null,
   "metadata": {},
   "outputs": [],
   "source": [
    "import numpy as np\n",
    "import matplotlib.pyplot as plt\n",
    "from sklearn.model_selection import train_test_split\n",
    "from tensorflow.keras.datasets import mnist\n",
    "from tensorflow.keras.utils import to_categorical\n",
    "from tensorflow.keras.models import Sequential\n",
    "from tensorflow.keras.layers import Flatten, Dense, Conv2D\n",
    "from tensorflow.keras.callbacks import TensorBoard"
   ]
  },
  {
   "cell_type": "code",
   "execution_count": null,
   "metadata": {},
   "outputs": [],
   "source": [
    "#Preprocessing\n",
    "(X_train, y_train), (X_test, y_test) = mnist.load_data() #loading standard dataset \n",
    "X_train, X_val = train_test_split(X_train, test_size=0.10, random_state=101) #splitting the data into training and testing sets\n",
    "y_train, y_val = train_test_split(y_train, test_size=0.10, random_state=101)\n",
    "\n",
    "X_train = np.reshape(X_train, (-1,28,28,1)) \n",
    "X_val = np.reshape(X_val, (-1,28,28,1))\n",
    "X_test = np.reshape(X_test, (-1,28,28,1))\n",
    "\n",
    "X_train = X_train.astype('float32')\n",
    "X_val = X_val.astype('float32')\n",
    "X_test = X_test.astype('float32')\n",
    "\n",
    "X_train /= 255\n",
    "X_val /= 255\n",
    "X_test /= 255\n",
    "\n",
    "new_classification = dict({\"0\":[1,7], \"1\":[0,6,8,9], \"2\":[2,5], \"3\":[3,4]}) #new classification of the numbers, given by the exercise \n",
    "def converter(number):\n",
    "    \"\"\"This function converts the numbers into the given classification. \n",
    "    Input: number (int) - the number to be converted\n",
    "    Output: int - the new classification of the number\"\"\"\n",
    "    for key in new_classification:\n",
    "        if number in new_classification[key]:\n",
    "            return int(key)\n",
    "\n",
    "y_train = np.array([converter(y) for y in y_train]) #apply converter on the training set\n",
    "y_val = np.array([converter(y) for y in y_val])\n",
    "y_test = np.array([converter(y) for y in y_test])\n",
    "\n",
    "y_train = to_categorical(y_train, 4)\n",
    "y_val = to_categorical(y_val, 4)\n",
    "y_test = to_categorical(y_test, 4)"
   ]
  },
  {
   "cell_type": "code",
   "execution_count": null,
   "metadata": {},
   "outputs": [],
   "source": [
    "#Modelling\n",
    "model8 = Sequential() #initializing the model\n",
    "\n",
    "\"\"\"Two convolutional filters are added to the model. It is known that convolutional fitlers work well when classifiying images.\"\"\"\n",
    "model8.add(Conv2D(filters=16, kernel_size=(3,3), activation='relu', input_shape=(28,28,1)))\n",
    "model8.add(Conv2D(filters=16, padding='valid' , kernel_size=(3,3), activation='relu'))\n",
    "\n",
    "model8.add(Flatten()) #flatten the output of the second convolutional filter\n",
    "\n",
    "model8.add(Dense(64, activation='relu')) #add a fully connected layer with 64 neurons\n",
    "\n",
    "model8.add(Dense(4, activation='softmax')) #add a fully connected layer with 4 neurons, as there are 4 classes. In this case, the activation function is softmax, as it is a classification problem.\n",
    "\n",
    "model8.compile(loss='categorical_crossentropy', optimizer='sgd', metrics=['accuracy']) #Compile the model \n",
    "\n",
    "model_name=\"my_eight_model\" #name of the model\n",
    "\n",
    "tensorboard = TensorBoard(\"../logs/{}\".format(model_name)) #initialize tensorboard\n",
    "\n",
    "model8.fit(X_train, y_train, batch_size=32, epochs=10, verbose=1, validation_data=(X_val, y_val), callbacks=[tensorboard]) #fit the training data to the model\n",
    "\n",
    "#Postprocessing\n",
    "score = model8.evaluate(X_test, y_test, verbose=0) #evaluate the model on the test set\n",
    "\n",
    "print(\"Loss: \",score[0])\n",
    "print(\"Accuracy: \",score[1])"
   ]
  }
 ],
 "metadata": {
  "kernelspec": {
   "display_name": "8p361",
   "language": "python",
   "name": "python3"
  },
  "language_info": {
   "codemirror_mode": {
    "name": "ipython",
    "version": 3
   },
   "file_extension": ".py",
   "mimetype": "text/x-python",
   "name": "python",
   "nbconvert_exporter": "python",
   "pygments_lexer": "ipython3",
   "version": "3.8.18"
  }
 },
 "nbformat": 4,
 "nbformat_minor": 2
}
