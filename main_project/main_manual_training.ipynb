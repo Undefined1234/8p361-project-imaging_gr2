{
 "cells": [
  {
   "cell_type": "markdown",
   "id": "9707e9a7",
   "metadata": {},
   "source": [
    "### Training all the models for main_project_notebook.\n",
    "\n",
    "\n",
    "This notebook contains the code for training of the baseline CNN, autoencoder and the CNN with augmented data. These models are safed in a .tf format and loaded into the main_project_notebook.ipynb file."
   ]
  }
 ],
 "metadata": {
  "kernelspec": {
   "display_name": "Python 3 (ipykernel)",
   "language": "python",
   "name": "python3"
  },
  "language_info": {
   "codemirror_mode": {
    "name": "ipython",
    "version": 3
   },
   "file_extension": ".py",
   "mimetype": "text/x-python",
   "name": "python",
   "nbconvert_exporter": "python",
   "pygments_lexer": "ipython3",
   "version": "3.8.18"
  }
 },
 "nbformat": 4,
 "nbformat_minor": 5
}
